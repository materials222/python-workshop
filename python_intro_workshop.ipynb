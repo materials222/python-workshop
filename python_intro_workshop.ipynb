{
 "cells": [
  {
   "cell_type": "markdown",
   "metadata": {
    "id": "Bpwzu7mk7Poj"
   },
   "source": [
    "<a href=\"https://colab.research.google.com/github/materials222/python-workshop/blob/master/python_intro_workshop.ipynb\" target=\"_parent\"><img src=\"https://colab.research.google.com/assets/colab-badge.svg\" alt=\"Open In Colab\"/></a>"
   ]
  },
  {
   "cell_type": "markdown",
   "metadata": {
    "id": "tQFIybV-3iil"
   },
   "source": [
    "# intro to python\n",
    "\n",
    "### Port Townsend Web Developer Meetup\n",
    "\n",
    "#### Wed, Sept 14, 2022"
   ]
  },
  {
   "cell_type": "markdown",
   "metadata": {},
   "source": [
    "**Topics**: print, comments, variables, strings/formatting, conditionals, for loop/range, accumulators"
   ]
  },
  {
   "cell_type": "markdown",
   "metadata": {},
   "source": [
    "Python:\n",
    "    \n",
    "- Easy to read, easy to write programming language\n",
    "- Let's you focus on writing the logic instead of remembering syntax\n",
    "- Express very powerful ideas in very few, easy-to-read lines of code\n",
    "- Simple and elegant syntax\n",
    "- Interpreted - No compilation step to convert source code to byte code"
   ]
  },
  {
   "cell_type": "code",
   "execution_count": 1,
   "metadata": {},
   "outputs": [
    {
     "name": "stdout",
     "output_type": "stream",
     "text": [
      "hello world\n"
     ]
    }
   ],
   "source": [
    "print(\"hello world\")"
   ]
  },
  {
   "cell_type": "markdown",
   "metadata": {},
   "source": [
    "Strings, enclosed in quotes, allow your program to process textual information."
   ]
  },
  {
   "cell_type": "code",
   "execution_count": 2,
   "metadata": {},
   "outputs": [
    {
     "name": "stdout",
     "output_type": "stream",
     "text": [
      "Hello World\n"
     ]
    }
   ],
   "source": [
    "# Single line comment (this has no effect on your program)\n",
    "print(\"Hello World\") # Say hello"
   ]
  },
  {
   "cell_type": "code",
   "execution_count": 3,
   "metadata": {},
   "outputs": [
    {
     "name": "stdout",
     "output_type": "stream",
     "text": [
      "Print\n",
      "Multiple\n",
      "Lines\n",
      "\n"
     ]
    }
   ],
   "source": [
    "print(\"\"\"Print\n",
    "Multiple\n",
    "Lines\n",
    "\"\"\")"
   ]
  },
  {
   "cell_type": "markdown",
   "metadata": {},
   "source": [
    "Python uses single (') and double (\") quotes interchangeably to denote literal string constants. There is no difference between single and double quotes in Python"
   ]
  },
  {
   "cell_type": "code",
   "execution_count": 4,
   "metadata": {},
   "outputs": [
    {
     "name": "stdout",
     "output_type": "stream",
     "text": [
      "Hello World\n"
     ]
    }
   ],
   "source": [
    "print('Hello World')"
   ]
  },
  {
   "cell_type": "markdown",
   "metadata": {},
   "source": [
    "In addition to strings, Python allows numbers as literal constants in programs. Python includes support for floating-point, integer, complex, and other types of numbers."
   ]
  },
  {
   "cell_type": "code",
   "execution_count": 5,
   "metadata": {},
   "outputs": [
    {
     "name": "stdout",
     "output_type": "stream",
     "text": [
      "42\n",
      "42.5\n"
     ]
    }
   ],
   "source": [
    "print(42)\n",
    "print(42.5)"
   ]
  },
  {
   "cell_type": "markdown",
   "metadata": {},
   "source": [
    "Variables allow your program to hold values that can change as the program runs. Variables have names that allow you to reference their values."
   ]
  },
  {
   "cell_type": "code",
   "execution_count": 6,
   "metadata": {},
   "outputs": [
    {
     "name": "stdout",
     "output_type": "stream",
     "text": [
      "10\n",
      "ten\n"
     ]
    }
   ],
   "source": [
    "a = 10\n",
    "b = \"ten\"\n",
    "print(a)\n",
    "print(b)"
   ]
  },
  {
   "cell_type": "markdown",
   "metadata": {},
   "source": [
    "The key feature of variables is that they can change"
   ]
  },
  {
   "cell_type": "code",
   "execution_count": 7,
   "metadata": {},
   "outputs": [
    {
     "name": "stdout",
     "output_type": "stream",
     "text": [
      "10\n",
      "11\n"
     ]
    }
   ],
   "source": [
    "a = 10\n",
    "print(a)\n",
    "a = a + 1\n",
    "print(a)"
   ]
  },
  {
   "cell_type": "markdown",
   "metadata": {},
   "source": [
    "You can mix strings and variables for printing. This technique is called a formatted or interpolated string. The variables must be inside of the curly braces. In Python, this type of string is generally called an f-string. The f-string is denoted by placing an \"f\" just in front of the opening single or double quote that begins the string."
   ]
  },
  {
   "cell_type": "code",
   "execution_count": 8,
   "metadata": {},
   "outputs": [
    {
     "name": "stdout",
     "output_type": "stream",
     "text": [
      "The value of a is 10\n"
     ]
    }
   ],
   "source": [
    "a = 10\n",
    "print(f'The value of a is {a}')"
   ]
  },
  {
   "cell_type": "markdown",
   "metadata": {},
   "source": [
    "You can also use f-strings with math"
   ]
  },
  {
   "cell_type": "markdown",
   "metadata": {},
   "source": [
    "Python has many ways to print numbers"
   ]
  },
  {
   "cell_type": "code",
   "execution_count": 9,
   "metadata": {},
   "outputs": [
    {
     "name": "stdout",
     "output_type": "stream",
     "text": [
      "a is 5\n",
      "a is 5\n",
      "a is 5\n",
      "a is 5\n"
     ]
    }
   ],
   "source": [
    "a = 5\n",
    "\n",
    "print(f'a is {a}') \n",
    "print('a is {}'.format(a))\n",
    "print('a is ' + str(a))\n",
    "print('a is %d' % (a))"
   ]
  },
  {
   "cell_type": "markdown",
   "metadata": {},
   "source": [
    "You can use if-statements to perform logic. **Notice the indents** These if-statements are how Python defines blocks of code to execute together. A block usually begins after a colon and includes any lines at the same level of indent. Unlike many other programming languages, Python uses whitespace to define blocks of code. The fact that whitespace is significant to the meaning of program code is a frequent source of annoyance for new programmers of Python. Tabs and spaces are both used to define the scope in a Python program. Mixing both spaces and tabs in the same program is not recommended."
   ]
  },
  {
   "cell_type": "code",
   "execution_count": 10,
   "metadata": {},
   "outputs": [
    {
     "name": "stdout",
     "output_type": "stream",
     "text": [
      "The variable a is not greater than 5\n"
     ]
    }
   ],
   "source": [
    "a = 5\n",
    "if a>5:\n",
    "    print('The variable a is greater than 5.')\n",
    "else:\n",
    "    print('The variable a is not greater than 5')"
   ]
  },
  {
   "cell_type": "code",
   "execution_count": 11,
   "metadata": {},
   "outputs": [
    {
     "name": "stdout",
     "output_type": "stream",
     "text": [
      "The variable a is 5\n",
      "The variable b is also 6\n"
     ]
    }
   ],
   "source": [
    "a = 5\n",
    "b = 6\n",
    "\n",
    "if a==5:\n",
    "    print('The variable a is 5')\n",
    "    if b==6:\n",
    "        print('The variable b is also 6')\n",
    "elif a==6:\n",
    "    print('The variable a is 6')"
   ]
  },
  {
   "cell_type": "markdown",
   "metadata": {},
   "source": [
    "The following if-statement has multiple levels. The \"elif\" command means \"else if.\""
   ]
  },
  {
   "cell_type": "markdown",
   "metadata": {},
   "source": [
    "Note that the double equal (\"==\") operator is used to test the equality of two expressions. The single equal (\"=\") operator is only used to assign values to variables in Python. The greater than (\">\"), less than (\"<\"), greater than or equal (\">=\"), less than or equal (\"<=\") all perform as would generally be accepted. Testing for inequality is performed with the not equal (\"!=\") operator.\n",
    "\n",
    "The range command is used in conjunction with loops to pass over a specific range of numbers. You can see a for loop and a range operation that causes the program to loop between 1 and 3."
   ]
  },
  {
   "cell_type": "markdown",
   "metadata": {},
   "source": [
    "The range command is used in conjunction with loops to pass over a specific range of numbers. You can see a for loop and a range operation that causes the program to loop between 1 and 3."
   ]
  },
  {
   "cell_type": "code",
   "execution_count": 12,
   "metadata": {},
   "outputs": [
    {
     "name": "stdout",
     "output_type": "stream",
     "text": [
      "1\n",
      "2\n"
     ]
    }
   ],
   "source": [
    "for x in range(1, 3):  \n",
    "    print(x)  "
   ]
  },
  {
   "cell_type": "markdown",
   "metadata": {},
   "source": [
    "The following is a further example of a looped printing of strings and numbers."
   ]
  },
  {
   "cell_type": "code",
   "execution_count": 13,
   "metadata": {},
   "outputs": [
    {
     "name": "stdout",
     "output_type": "stream",
     "text": [
      "Adding 1, sum so far is 1\n",
      "Adding 2, sum so far is 3\n",
      "Final sum: 3\n"
     ]
    }
   ],
   "source": [
    "acc = 0\n",
    "for x in range(1, 3):\n",
    "    acc += x\n",
    "    print(f\"Adding {x}, sum so far is {acc}\")\n",
    "\n",
    "print(f\"Final sum: {acc}\")"
   ]
  },
  {
   "cell_type": "code",
   "execution_count": null,
   "metadata": {},
   "outputs": [],
   "source": []
  }
 ],
 "metadata": {
  "colab": {
   "provenance": []
  },
  "kernelspec": {
   "display_name": "Python 3 (ipykernel)",
   "language": "python",
   "name": "python3"
  },
  "language_info": {
   "codemirror_mode": {
    "name": "ipython",
    "version": 3
   },
   "file_extension": ".py",
   "mimetype": "text/x-python",
   "name": "python",
   "nbconvert_exporter": "python",
   "pygments_lexer": "ipython3",
   "version": "3.9.12"
  }
 },
 "nbformat": 4,
 "nbformat_minor": 4
}
